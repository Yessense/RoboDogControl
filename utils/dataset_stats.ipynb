{
 "cells": [
  {
   "cell_type": "code",
   "execution_count": 52,
   "metadata": {
    "collapsed": true
   },
   "outputs": [],
   "source": [
    "import os\n",
    "import pandas as pd\n",
    "\n",
    "\n"
   ]
  },
  {
   "cell_type": "code",
   "execution_count": 53,
   "outputs": [],
   "source": [
    "## List of gestures:\n",
    "\n",
    "labels = {\n",
    "    0: 'stand',\n",
    "    1: 'jump',\n",
    "    2: 'place',\n",
    "    3: 'down',\n",
    "    4: 'sit',\n",
    "    5: 'come',\n",
    "    6: 'paw',\n",
    "}\n",
    "## Angles and distances\n",
    "distances = {\n",
    "    0: 'down_close',\n",
    "    1: 'down_far',\n",
    "    2: 'middle_close',\n",
    "}\n",
    "\n",
    "labels_r = {value: key for key, value in labels.items()}\n",
    "distances_r = {value: key for key, value in distances.items()}\n",
    "\n",
    "dataset_path = '/media/yessense/Transcend/converted/'\n",
    "stats = []"
   ],
   "metadata": {
    "collapsed": false,
    "pycharm": {
     "name": "#%%\n"
    }
   }
  },
  {
   "cell_type": "code",
   "execution_count": 54,
   "outputs": [
    {
     "name": "stdout",
     "output_type": "stream",
     "text": [
      "Done\n"
     ]
    }
   ],
   "source": [
    "for person in os.listdir(dataset_path):\n",
    "    for label in os.listdir(os.path.join(dataset_path, person)):\n",
    "        # rename to human readable gesture name\n",
    "        # os.rename(os.path.join(dataset_path, person, label), os.path.join(dataset_path, person, labels[int(label)]))\n",
    "        for distance in os.listdir(os.path.join(dataset_path, person, label)):\n",
    "            # distance_id = distance.split('_')[-1]\n",
    "            # os.rename(os.path.join(dataset_path, person, label, distance),\n",
    "            #           os.path.join(dataset_path, person, label, distances[int(distance_id)]))\n",
    "\n",
    "            image_count = 0\n",
    "            for image in os.listdir(os.path.join(dataset_path, person, label, distance)):\n",
    "                image_count += 1\n",
    "\n",
    "            stats.append([int(person), label, distance, image_count])\n",
    "\n",
    "df = pd.DataFrame(stats, columns=['person', 'gesture', 'distance', 'count'])\n",
    "\n",
    "print(\"Done\")"
   ],
   "metadata": {
    "collapsed": false,
    "pycharm": {
     "name": "#%%\n"
    }
   }
  },
  {
   "cell_type": "code",
   "execution_count": 55,
   "outputs": [
    {
     "data": {
      "text/plain": "    person gesture      distance  count\n0        1    come    down_close    168\n1        1    come      down_far    171\n2        1    come  middle_close    139\n3        1    down    down_close    199\n4        1    down      down_far    194\n..     ...     ...           ...    ...\n90       5     sit    down_close    159\n91       5     sit      down_far    175\n92       5     sit  middle_close    147\n93       5   stand      down_far    203\n94       5   stand  middle_close    125\n\n[95 rows x 4 columns]",
      "text/html": "<div>\n<style scoped>\n    .dataframe tbody tr th:only-of-type {\n        vertical-align: middle;\n    }\n\n    .dataframe tbody tr th {\n        vertical-align: top;\n    }\n\n    .dataframe thead th {\n        text-align: right;\n    }\n</style>\n<table border=\"1\" class=\"dataframe\">\n  <thead>\n    <tr style=\"text-align: right;\">\n      <th></th>\n      <th>person</th>\n      <th>gesture</th>\n      <th>distance</th>\n      <th>count</th>\n    </tr>\n  </thead>\n  <tbody>\n    <tr>\n      <th>0</th>\n      <td>1</td>\n      <td>come</td>\n      <td>down_close</td>\n      <td>168</td>\n    </tr>\n    <tr>\n      <th>1</th>\n      <td>1</td>\n      <td>come</td>\n      <td>down_far</td>\n      <td>171</td>\n    </tr>\n    <tr>\n      <th>2</th>\n      <td>1</td>\n      <td>come</td>\n      <td>middle_close</td>\n      <td>139</td>\n    </tr>\n    <tr>\n      <th>3</th>\n      <td>1</td>\n      <td>down</td>\n      <td>down_close</td>\n      <td>199</td>\n    </tr>\n    <tr>\n      <th>4</th>\n      <td>1</td>\n      <td>down</td>\n      <td>down_far</td>\n      <td>194</td>\n    </tr>\n    <tr>\n      <th>...</th>\n      <td>...</td>\n      <td>...</td>\n      <td>...</td>\n      <td>...</td>\n    </tr>\n    <tr>\n      <th>90</th>\n      <td>5</td>\n      <td>sit</td>\n      <td>down_close</td>\n      <td>159</td>\n    </tr>\n    <tr>\n      <th>91</th>\n      <td>5</td>\n      <td>sit</td>\n      <td>down_far</td>\n      <td>175</td>\n    </tr>\n    <tr>\n      <th>92</th>\n      <td>5</td>\n      <td>sit</td>\n      <td>middle_close</td>\n      <td>147</td>\n    </tr>\n    <tr>\n      <th>93</th>\n      <td>5</td>\n      <td>stand</td>\n      <td>down_far</td>\n      <td>203</td>\n    </tr>\n    <tr>\n      <th>94</th>\n      <td>5</td>\n      <td>stand</td>\n      <td>middle_close</td>\n      <td>125</td>\n    </tr>\n  </tbody>\n</table>\n<p>95 rows × 4 columns</p>\n</div>"
     },
     "execution_count": 55,
     "metadata": {},
     "output_type": "execute_result"
    }
   ],
   "source": [
    "df"
   ],
   "metadata": {
    "collapsed": false,
    "pycharm": {
     "name": "#%%\n"
    }
   }
  },
  {
   "cell_type": "code",
   "execution_count": 56,
   "outputs": [
    {
     "data": {
      "text/plain": "        count\n          sum\ngesture      \ncome     1859\ndown     1948\njump     2049\npaw      1500\nplace    2064\nsit      1065\nstand    2166",
      "text/html": "<div>\n<style scoped>\n    .dataframe tbody tr th:only-of-type {\n        vertical-align: middle;\n    }\n\n    .dataframe tbody tr th {\n        vertical-align: top;\n    }\n\n    .dataframe thead tr th {\n        text-align: left;\n    }\n\n    .dataframe thead tr:last-of-type th {\n        text-align: right;\n    }\n</style>\n<table border=\"1\" class=\"dataframe\">\n  <thead>\n    <tr>\n      <th></th>\n      <th>count</th>\n    </tr>\n    <tr>\n      <th></th>\n      <th>sum</th>\n    </tr>\n    <tr>\n      <th>gesture</th>\n      <th></th>\n    </tr>\n  </thead>\n  <tbody>\n    <tr>\n      <th>come</th>\n      <td>1859</td>\n    </tr>\n    <tr>\n      <th>down</th>\n      <td>1948</td>\n    </tr>\n    <tr>\n      <th>jump</th>\n      <td>2049</td>\n    </tr>\n    <tr>\n      <th>paw</th>\n      <td>1500</td>\n    </tr>\n    <tr>\n      <th>place</th>\n      <td>2064</td>\n    </tr>\n    <tr>\n      <th>sit</th>\n      <td>1065</td>\n    </tr>\n    <tr>\n      <th>stand</th>\n      <td>2166</td>\n    </tr>\n  </tbody>\n</table>\n</div>"
     },
     "execution_count": 56,
     "metadata": {},
     "output_type": "execute_result"
    }
   ],
   "source": [
    "df.groupby(['gesture']).agg({'count': ['sum']})"
   ],
   "metadata": {
    "collapsed": false,
    "pycharm": {
     "name": "#%%\n"
    }
   }
  },
  {
   "cell_type": "code",
   "execution_count": 57,
   "outputs": [],
   "source": [
    "gesture_distance_counts = df.groupby(['gesture',  'distance']).size()"
   ],
   "metadata": {
    "collapsed": false,
    "pycharm": {
     "name": "#%%\n"
    }
   }
  },
  {
   "cell_type": "code",
   "execution_count": 58,
   "outputs": [
    {
     "data": {
      "text/plain": "gesture  distance    \ncome     down_close      5\n         down_far        5\n         middle_close    5\ndown     down_close      5\n         down_far        5\n         middle_close    5\njump     down_close      5\n         down_far        5\n         middle_close    5\npaw      down_close      4\n         down_far        4\n         middle_close    4\nplace    down_close      5\n         down_far        5\n         middle_close    5\nsit      down_close      3\n         down_far        3\n         middle_close    3\nstand    down_close      4\n         down_far        5\n         middle_close    5\ndtype: int64"
     },
     "execution_count": 58,
     "metadata": {},
     "output_type": "execute_result"
    }
   ],
   "source": [
    "gesture_distance_counts"
   ],
   "metadata": {
    "collapsed": false,
    "pycharm": {
     "name": "#%%\n"
    }
   }
  },
  {
   "cell_type": "code",
   "execution_count": 60,
   "outputs": [
    {
     "data": {
      "text/plain": "    person gesture      distance  count\n0        1    come    down_close    168\n1        1    come      down_far    171\n2        1    come  middle_close    139\n3        1    down    down_close    199\n4        1    down      down_far    194\n..     ...     ...           ...    ...\n90       5     sit    down_close    159\n91       5     sit      down_far    175\n92       5     sit  middle_close    147\n93       5   stand      down_far    203\n94       5   stand  middle_close    125\n\n[95 rows x 4 columns]",
      "text/html": "<div>\n<style scoped>\n    .dataframe tbody tr th:only-of-type {\n        vertical-align: middle;\n    }\n\n    .dataframe tbody tr th {\n        vertical-align: top;\n    }\n\n    .dataframe thead th {\n        text-align: right;\n    }\n</style>\n<table border=\"1\" class=\"dataframe\">\n  <thead>\n    <tr style=\"text-align: right;\">\n      <th></th>\n      <th>person</th>\n      <th>gesture</th>\n      <th>distance</th>\n      <th>count</th>\n    </tr>\n  </thead>\n  <tbody>\n    <tr>\n      <th>0</th>\n      <td>1</td>\n      <td>come</td>\n      <td>down_close</td>\n      <td>168</td>\n    </tr>\n    <tr>\n      <th>1</th>\n      <td>1</td>\n      <td>come</td>\n      <td>down_far</td>\n      <td>171</td>\n    </tr>\n    <tr>\n      <th>2</th>\n      <td>1</td>\n      <td>come</td>\n      <td>middle_close</td>\n      <td>139</td>\n    </tr>\n    <tr>\n      <th>3</th>\n      <td>1</td>\n      <td>down</td>\n      <td>down_close</td>\n      <td>199</td>\n    </tr>\n    <tr>\n      <th>4</th>\n      <td>1</td>\n      <td>down</td>\n      <td>down_far</td>\n      <td>194</td>\n    </tr>\n    <tr>\n      <th>...</th>\n      <td>...</td>\n      <td>...</td>\n      <td>...</td>\n      <td>...</td>\n    </tr>\n    <tr>\n      <th>90</th>\n      <td>5</td>\n      <td>sit</td>\n      <td>down_close</td>\n      <td>159</td>\n    </tr>\n    <tr>\n      <th>91</th>\n      <td>5</td>\n      <td>sit</td>\n      <td>down_far</td>\n      <td>175</td>\n    </tr>\n    <tr>\n      <th>92</th>\n      <td>5</td>\n      <td>sit</td>\n      <td>middle_close</td>\n      <td>147</td>\n    </tr>\n    <tr>\n      <th>93</th>\n      <td>5</td>\n      <td>stand</td>\n      <td>down_far</td>\n      <td>203</td>\n    </tr>\n    <tr>\n      <th>94</th>\n      <td>5</td>\n      <td>stand</td>\n      <td>middle_close</td>\n      <td>125</td>\n    </tr>\n  </tbody>\n</table>\n<p>95 rows × 4 columns</p>\n</div>"
     },
     "execution_count": 60,
     "metadata": {},
     "output_type": "execute_result"
    }
   ],
   "source": [
    "df"
   ],
   "metadata": {
    "collapsed": false,
    "pycharm": {
     "name": "#%%\n"
    }
   }
  },
  {
   "cell_type": "code",
   "execution_count": 61,
   "outputs": [
    {
     "data": {
      "text/plain": "    person gesture      distance  count  size\n0        1    come    down_close    168     5\n1        1    come      down_far    171     5\n2        1    come  middle_close    139     5\n3        1    down    down_close    199     5\n4        1    down      down_far    194     5\n..     ...     ...           ...    ...   ...\n90       5     sit    down_close    159     3\n91       5     sit      down_far    175     3\n92       5     sit  middle_close    147     3\n93       5   stand      down_far    203     5\n94       5   stand  middle_close    125     5\n\n[95 rows x 5 columns]",
      "text/html": "<div>\n<style scoped>\n    .dataframe tbody tr th:only-of-type {\n        vertical-align: middle;\n    }\n\n    .dataframe tbody tr th {\n        vertical-align: top;\n    }\n\n    .dataframe thead th {\n        text-align: right;\n    }\n</style>\n<table border=\"1\" class=\"dataframe\">\n  <thead>\n    <tr style=\"text-align: right;\">\n      <th></th>\n      <th>person</th>\n      <th>gesture</th>\n      <th>distance</th>\n      <th>count</th>\n      <th>size</th>\n    </tr>\n  </thead>\n  <tbody>\n    <tr>\n      <th>0</th>\n      <td>1</td>\n      <td>come</td>\n      <td>down_close</td>\n      <td>168</td>\n      <td>5</td>\n    </tr>\n    <tr>\n      <th>1</th>\n      <td>1</td>\n      <td>come</td>\n      <td>down_far</td>\n      <td>171</td>\n      <td>5</td>\n    </tr>\n    <tr>\n      <th>2</th>\n      <td>1</td>\n      <td>come</td>\n      <td>middle_close</td>\n      <td>139</td>\n      <td>5</td>\n    </tr>\n    <tr>\n      <th>3</th>\n      <td>1</td>\n      <td>down</td>\n      <td>down_close</td>\n      <td>199</td>\n      <td>5</td>\n    </tr>\n    <tr>\n      <th>4</th>\n      <td>1</td>\n      <td>down</td>\n      <td>down_far</td>\n      <td>194</td>\n      <td>5</td>\n    </tr>\n    <tr>\n      <th>...</th>\n      <td>...</td>\n      <td>...</td>\n      <td>...</td>\n      <td>...</td>\n      <td>...</td>\n    </tr>\n    <tr>\n      <th>90</th>\n      <td>5</td>\n      <td>sit</td>\n      <td>down_close</td>\n      <td>159</td>\n      <td>3</td>\n    </tr>\n    <tr>\n      <th>91</th>\n      <td>5</td>\n      <td>sit</td>\n      <td>down_far</td>\n      <td>175</td>\n      <td>3</td>\n    </tr>\n    <tr>\n      <th>92</th>\n      <td>5</td>\n      <td>sit</td>\n      <td>middle_close</td>\n      <td>147</td>\n      <td>3</td>\n    </tr>\n    <tr>\n      <th>93</th>\n      <td>5</td>\n      <td>stand</td>\n      <td>down_far</td>\n      <td>203</td>\n      <td>5</td>\n    </tr>\n    <tr>\n      <th>94</th>\n      <td>5</td>\n      <td>stand</td>\n      <td>middle_close</td>\n      <td>125</td>\n      <td>5</td>\n    </tr>\n  </tbody>\n</table>\n<p>95 rows × 5 columns</p>\n</div>"
     },
     "execution_count": 61,
     "metadata": {},
     "output_type": "execute_result"
    }
   ],
   "source": [
    "df['size'] = df.groupby(['gesture', 'distance'])['person'].transform('size')\n",
    "df"
   ],
   "metadata": {
    "collapsed": false,
    "pycharm": {
     "name": "#%%\n"
    }
   }
  },
  {
   "cell_type": "code",
   "execution_count": 74,
   "outputs": [
    {
     "name": "stdout",
     "output_type": "stream",
     "text": [
      "20 8\n",
      "20 8\n",
      "20 6\n",
      "20 9\n",
      "20 9\n",
      "20 7\n",
      "20 10\n",
      "20 12\n",
      "20 9\n",
      "25 7\n",
      "25 7\n",
      "25 5\n",
      "20 8\n",
      "20 10\n",
      "20 8\n",
      "25 8\n",
      "20 11\n",
      "20 10\n",
      "20 5\n",
      "20 6\n",
      "20 5\n",
      "20 6\n",
      "20 7\n",
      "20 5\n",
      "20 6\n",
      "20 7\n",
      "20 5\n",
      "25 4\n",
      "25 5\n",
      "25 4\n",
      "20 8\n",
      "20 9\n",
      "20 7\n",
      "25 5\n",
      "20 14\n",
      "20 7\n",
      "20 4\n",
      "20 5\n",
      "20 4\n",
      "20 4\n",
      "20 5\n",
      "20 5\n",
      "20 4\n",
      "20 5\n",
      "20 4\n",
      "25 3\n",
      "25 4\n",
      "25 3\n",
      "20 4\n",
      "20 5\n",
      "20 5\n",
      "34 2\n",
      "34 2\n",
      "34 2\n",
      "25 3\n",
      "20 6\n",
      "20 4\n",
      "20 5\n",
      "20 5\n",
      "20 5\n",
      "20 4\n",
      "20 5\n",
      "20 5\n",
      "20 5\n",
      "20 5\n",
      "20 5\n",
      "25 4\n",
      "25 4\n",
      "25 4\n",
      "20 4\n",
      "20 5\n",
      "20 4\n",
      "34 2\n",
      "34 3\n",
      "34 2\n",
      "25 3\n",
      "20 5\n",
      "20 4\n",
      "20 7\n",
      "20 7\n",
      "20 6\n",
      "20 6\n",
      "20 6\n",
      "20 5\n",
      "20 7\n",
      "20 6\n",
      "20 6\n",
      "20 7\n",
      "20 7\n",
      "20 5\n",
      "34 4\n",
      "34 5\n",
      "34 4\n",
      "20 10\n",
      "20 6\n"
     ]
    }
   ],
   "source": [
    "import math\n",
    "\n",
    "target_dir = '/media/yessense/Transcend/gestures_dataset'\n",
    "os.chdir('/')\n",
    "\n",
    "for index, row in df.T.iteritems():\n",
    "    gesture = row['gesture']\n",
    "    distance = row['distance']\n",
    "    person = row['person']\n",
    "    count = row['count']\n",
    "    size = row['size']\n",
    "\n",
    "    directory = os.path.join(dataset_path, str(person), gesture, distance)\n",
    "    target_count = math.ceil(100 / size)\n",
    "    interval = count // target_count\n",
    "\n",
    "    print(target_count, interval)\n",
    "\n",
    "    i = 0\n",
    "    j = 0\n",
    "    for f in os.listdir(directory):\n",
    "        filepath = os.path.join(directory, f)\n",
    "        if i % interval != 0:\n",
    "            os.remove(filepath)\n",
    "        else:\n",
    "            os.rename(filepath, os.path.join(target_dir, gesture, f'{person}_{gesture}_{distance}_{j}'))\n",
    "            j += 1\n",
    "        i += 1"
   ],
   "metadata": {
    "collapsed": false,
    "pycharm": {
     "name": "#%%\n"
    }
   }
  }
 ],
 "metadata": {
  "kernelspec": {
   "display_name": "Python 3",
   "language": "python",
   "name": "python3"
  },
  "language_info": {
   "codemirror_mode": {
    "name": "ipython",
    "version": 2
   },
   "file_extension": ".py",
   "mimetype": "text/x-python",
   "name": "python",
   "nbconvert_exporter": "python",
   "pygments_lexer": "ipython2",
   "version": "2.7.6"
  }
 },
 "nbformat": 4,
 "nbformat_minor": 0
}